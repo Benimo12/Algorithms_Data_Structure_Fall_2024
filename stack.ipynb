{
 "cells": [
  {
   "cell_type": "code",
   "execution_count": 7,
   "metadata": {},
   "outputs": [],
   "source": [
    "class Node:\n",
    "    def __init__(self, data):\n",
    "        self.data = data\n",
    "        self.next = None\n",
    "        \n",
    "class Stack:\n",
    "    def __init__(self):\n",
    "        self.head = None\n",
    "        \n",
    "        \n",
    "    def push(self, data):\n",
    "        if self.head is None:\n",
    "            self.head = Node(data)\n",
    "        else:\n",
    "            new_node = Node(data)\n",
    "            new_node.next = self.head\n",
    "            self.head = new_node        \n",
    "            \n",
    "    def pop(self):\n",
    "        if self.head is None:\n",
    "            return None\n",
    "        else:\n",
    "            popped = self.head.data\n",
    "            self.head = self.head.next\n",
    "            \n",
    "            return popped\n",
    "        \n",
    "    def peek(self):\n",
    "        if self.head is None:\n",
    "            return None\n",
    "        else:\n",
    "            return self.head.data\n",
    "        \n",
    "    def is_empty(self):\n",
    "        return self.head is None\n",
    "    \n",
    "    def display(self):\n",
    "        current = self.head\n",
    "        while current is not None:\n",
    "            print(current.data, end='\\n')\n",
    "            current = current.next\n",
    "        print()"
   ]
  },
  {
   "cell_type": "code",
   "execution_count": 8,
   "metadata": {},
   "outputs": [
    {
     "data": {
      "text/plain": [
       "12"
      ]
     },
     "execution_count": 8,
     "metadata": {},
     "output_type": "execute_result"
    }
   ],
   "source": [
    "import queue\n",
    "\n",
    "new_stack = queue.LifoQueue(maxsize=0)\n",
    "new_stack.put(21)\n",
    "new_stack.put(12)\n",
    "\n",
    "new_stack.get()"
   ]
  },
  {
   "cell_type": "markdown",
   "metadata": {},
   "source": [
    "You are tasked to manage a simple browser history. Your stack should be able to store up to 5 browsing URLs. Implement the following operations for your stack:\n",
    "\n",
    "1.  **Push URL**: Add a new URL to the stack, representing the user's current page.\n",
    "2.  **Pop URL**: Remove the most recent URL from the stack, simulating the user going back to the previous page.\n",
    "3.  **Peek URL**: View the most recent URL in the stack without removing it, simulating a preview of the current page.\n",
    "4.  **Display History**: Display all URLs currently in the stack from the most recent to the oldest."
   ]
  },
  {
   "cell_type": "code",
   "execution_count": 10,
   "metadata": {},
   "outputs": [
    {
     "name": "stdout",
     "output_type": "stream",
     "text": [
      "https://www.example5.com\n",
      "https://www.example4.com\n",
      "https://www.example3.com\n",
      "https://www.example2.com\n",
      "https://www.example1.com\n",
      "\n"
     ]
    }
   ],
   "source": [
    "history = Stack()\n",
    "history.push(\"https://www.example1.com\")\n",
    "history.push(\"https://www.example2.com\")\n",
    "history.push(\"https://www.example3.com\")\n",
    "history.push(\"https://www.example4.com\")\n",
    "history.push(\"https://www.example5.com\")\n",
    "history.push(\"https://www.example6.com\") \n",
    "\n",
    "history.peek()\n",
    "history.pop()\n",
    "history.display()"
   ]
  }
 ],
 "metadata": {
  "kernelspec": {
   "display_name": ".venv",
   "language": "python",
   "name": "python3"
  },
  "language_info": {
   "codemirror_mode": {
    "name": "ipython",
    "version": 3
   },
   "file_extension": ".py",
   "mimetype": "text/x-python",
   "name": "python",
   "nbconvert_exporter": "python",
   "pygments_lexer": "ipython3",
   "version": "3.12.2"
  }
 },
 "nbformat": 4,
 "nbformat_minor": 2
}
