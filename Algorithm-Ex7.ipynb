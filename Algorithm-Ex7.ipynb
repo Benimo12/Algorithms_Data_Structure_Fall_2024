{
 "cells": [
  {
   "cell_type": "markdown",
   "metadata": {},
   "source": [
    "### Easy-Level Problem (Reference from LeetCode) \n",
    "\n",
    "**Problem Description**\n",
    "\n",
    "Given an array `arr` of positive integers sorted in strictly increasing order, and an integer `k`.\n",
    "\n",
    "Return the `k`th positive integer that is missing from this array.\n",
    "\n",
    "##### **Example**\n",
    "\n",
    "- **Input**: `arr = [2, 3, 4, 7, 11]`, `k = 5`\n",
    "- **Output**: `9`\n",
    "\n",
    "#### **Explanation**\n",
    "\n",
    "In this example, the positive integers missing from the array `arr` are `[1, 5, 6, 8, 9, ...]`. The 5th missing integer is `9`.\n",
    "\n",
    "#### **Constraints**\n",
    "\n",
    "- `1 <= arr.length <= 1000`\n",
    "- `1 <= arr[i] <= 1000`\n",
    "- `1 <= k <= 1000`"
   ]
  },
  {
   "cell_type": "markdown",
   "metadata": {},
   "source": [
    "**Instructions**\n",
    "\n",
    "I have given you a sample solution for the problem above. Please review the code carefully and answer the following questions:\n",
    "\n",
    "1. Write a short description of what this function does.\n",
    "2. What is the output of the result if \n",
    "    - arr = [2,3,4,7,11], k = 5\n",
    "    - arr = [1,2,3,4], k = 2\n",
    "3. Describe how you get the answer in Q2.\n",
    "4. What is the worst-case time complexity of the below algorithm? (Use Big-O notation)"
   ]
  },
  {
   "cell_type": "code",
   "execution_count": 9,
   "metadata": {},
   "outputs": [],
   "source": [
    "def findKthPositive(arr, k):\n",
    "    \"\"\"\n",
    "    :type arr: List[int]\n",
    "    :type k: int\n",
    "    :rtype: int\n",
    "    \"\"\"       \n",
    "    missing = 0\n",
    "    for i in range(1, arr[-1] + 1):\n",
    "        if i not in arr:\n",
    "            missing += 1\n",
    "        if missing == k:\n",
    "            return i\n",
    "    return arr[-1] + k - missing         \n"
   ]
  }
 ],
 "metadata": {
  "kernelspec": {
   "display_name": ".venv",
   "language": "python",
   "name": "python3"
  },
  "language_info": {
   "codemirror_mode": {
    "name": "ipython",
    "version": 3
   },
   "file_extension": ".py",
   "mimetype": "text/x-python",
   "name": "python",
   "nbconvert_exporter": "python",
   "pygments_lexer": "ipython3",
   "version": "3.12.2"
  }
 },
 "nbformat": 4,
 "nbformat_minor": 2
}
