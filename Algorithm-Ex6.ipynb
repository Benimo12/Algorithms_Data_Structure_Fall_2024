{
 "cells": [
  {
   "cell_type": "markdown",
   "metadata": {},
   "source": [
    "### Easy-Level Problem (Reference from LeetCode) \n",
    "\n",
    "**Problem Description**\n",
    "\n",
    "You are given a string `s` representing an attendance record for a student where each character signifies whether the student was absent, late, or present on that day. The record only contains the following three characters:\n",
    "\n",
    "- 'A': Absent.\n",
    "- 'L': Late.\n",
    "- 'P': Present.\n",
    "\n",
    "The student is eligible for an attendance award if they meet both of the following criteria:\n",
    "\n",
    "1. The student was absent ('A') for strictly fewer than 2 days total.\n",
    "2. The student was never late ('L') for 3 or more consecutive days.\n",
    "\n",
    "Return `true` if the student is eligible for an attendance award, or `false` otherwise."
   ]
  },
  {
   "cell_type": "markdown",
   "metadata": {},
   "source": [
    "**Instructions**\n",
    "\n",
    "I have given you a partial solution for the problem above. Please review the code carefully and answer the following questions:\n",
    "\n",
    "1. The provided solution doesn't work correctly for all cases. Can you identify why?\n",
    "2. What is the output of the result if the input `s` is:\n",
    "    - \"PPALLL\"    \n",
    "    - \"PPALLP\"\n",
    "    - \"PLLPLLLLPP\"\n",
    "3. Describe any situations where the solution fails to give the correct answer.\n",
    "4. How would you fix the solution to ensure it works correctly in all cases?"
   ]
  },
  {
   "cell_type": "code",
   "execution_count": 2,
   "metadata": {},
   "outputs": [],
   "source": [
    "def checkRecord(s):\n",
    "    \"\"\"\n",
    "    :type s: str\n",
    "    :rtype: bool\n",
    "    \"\"\"\n",
    "    if s.count('A')>=2:\n",
    "        return False\n",
    "    else:\n",
    "        idx = s.find(\"L\")\n",
    "        if s[idx:idx+3]==\"LLL\":\n",
    "            return False\n",
    "        else:\n",
    "            return True"
   ]
  }
 ],
 "metadata": {
  "kernelspec": {
   "display_name": ".venv",
   "language": "python",
   "name": "python3"
  },
  "language_info": {
   "codemirror_mode": {
    "name": "ipython",
    "version": 3
   },
   "file_extension": ".py",
   "mimetype": "text/x-python",
   "name": "python",
   "nbconvert_exporter": "python",
   "pygments_lexer": "ipython3",
   "version": "3.12.2"
  }
 },
 "nbformat": 4,
 "nbformat_minor": 2
}
