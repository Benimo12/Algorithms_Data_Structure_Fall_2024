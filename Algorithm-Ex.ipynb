{
 "cells": [
  {
   "cell_type": "code",
   "execution_count": null,
   "metadata": {},
   "outputs": [],
   "source": [
    "def count_char_frequencies(s):\n",
    "    freq_dict = {}\n",
    "    for char in s:\n",
    "        if char in freq_dict:\n",
    "            freq_dict[char] += 1\n",
    "        else:\n",
    "            freq_dict[char] = 1\n",
    "    return freq_dict"
   ]
  },
  {
   "cell_type": "code",
   "execution_count": null,
   "metadata": {},
   "outputs": [],
   "source": [
    "def squares(n):\n",
    "    return [i * i for i in range(n)]\n"
   ]
  },
  {
   "cell_type": "code",
   "execution_count": null,
   "metadata": {},
   "outputs": [],
   "source": [
    "d=[{'name':'Todd', 'phone':'555-1414', 'email':'todd@mail.net'},\n",
    "    {'name':'Helga', 'phone':'555-1618', 'email':'helga@mail.net'},\n",
    "    {'name':'Princess', 'phone':'555-3141', 'email':''},\n",
    "    {'name':'LJ', 'phone':'555-2718', 'email':'lj@mail.net'}]\n",
    "\n",
    "print([element['name'] for element in d if element['phone'].endswith('8')])\n",
    "print([element['name'] for element in d if element['email']==''])\n"
   ]
  },
  {
   "cell_type": "code",
   "execution_count": null,
   "metadata": {},
   "outputs": [],
   "source": [
    "list1 = [k*'1' for k in range(1,101)]\n",
    "list2 = [num for num in range(1,1001) if num%7==0 and str(num).endswith('6')]\n",
    "num_3digits = len([num for num in range(1,10001) if num//100>0])\n"
   ]
  },
  {
   "cell_type": "code",
   "execution_count": 6,
   "metadata": {},
   "outputs": [
    {
     "data": {
      "text/plain": [
       "[539920]"
      ]
     },
     "execution_count": 6,
     "metadata": {},
     "output_type": "execute_result"
    }
   ],
   "source": [
    "import random\n",
    "bigNum = 1000000\n",
    "org_list = list(range(1, bigNum+1))\n",
    "\n",
    "missing_number = random.randint(1, bigNum)\n",
    "duplicate_number = missing_number + 35\n",
    "modified_list = org_list.copy()\n",
    "modified_list.remove(missing_number)\n",
    "modified_list.append(duplicate_number)\n",
    "modified_list.sort()\n",
    "\n",
    "duplicated_element = list(set(org_list).difference(set(modified_list)))\n",
    "duplicated_element\n",
    "\n"
   ]
  },
  {
   "cell_type": "code",
   "execution_count": null,
   "metadata": {},
   "outputs": [],
   "source": []
  }
 ],
 "metadata": {
  "kernelspec": {
   "display_name": ".venv",
   "language": "python",
   "name": "python3"
  },
  "language_info": {
   "codemirror_mode": {
    "name": "ipython",
    "version": 3
   },
   "file_extension": ".py",
   "mimetype": "text/x-python",
   "name": "python",
   "nbconvert_exporter": "python",
   "pygments_lexer": "ipython3",
   "version": "3.12.1"
  }
 },
 "nbformat": 4,
 "nbformat_minor": 2
}
