{
 "cells": [
  {
   "cell_type": "markdown",
   "metadata": {},
   "source": [
    "1. Which data structure (stack or queue) will you use to convert an integer to a binary number?\n",
    "+ **Answer: Stack**\n",
    "\n",
    "+ **Reason: Using a stack is suitable for converting an integer to a binary number because the binary digits are generated in reverse order. By pushing each digit onto the stack and then popping them off, you get the binary number in the correct order.**"
   ]
  },
  {
   "cell_type": "code",
   "execution_count": 1,
   "metadata": {},
   "outputs": [
    {
     "name": "stdout",
     "output_type": "stream",
     "text": [
      "1010\n"
     ]
    }
   ],
   "source": [
    "def int_to_binary_stack(n):\n",
    "    stack = []\n",
    "    while n > 0:\n",
    "        stack.append(n % 2)\n",
    "        n = n // 2\n",
    "    binary_num = ''\n",
    "    while stack:\n",
    "        binary_num += str(stack.pop())\n",
    "    return binary_num\n",
    "\n",
    "print(int_to_binary_stack(10))  # Output: 1010\n"
   ]
  },
  {
   "cell_type": "markdown",
   "metadata": {},
   "source": [
    "2. Which data structure (stack or queue) will you use to evaluate a postfix expression?\n",
    "\n",
    "+ **Answer: Stack**\n",
    "\n",
    "+ **Reason: Evaluating a postfix expression involves processing operands and operators in a way that requires a last-in, first-out (LIFO) structure, making a stack ideal.**"
   ]
  },
  {
   "cell_type": "code",
   "execution_count": 2,
   "metadata": {},
   "outputs": [
    {
     "name": "stdout",
     "output_type": "stream",
     "text": [
      "-4\n"
     ]
    }
   ],
   "source": [
    "def evaluate_postfix(expression):\n",
    "    stack = []\n",
    "    for char in expression:\n",
    "        if char.isdigit():\n",
    "            stack.append(int(char))\n",
    "        else:\n",
    "            b = stack.pop()\n",
    "            a = stack.pop()\n",
    "            if char == '+':\n",
    "                stack.append(a + b)\n",
    "            elif char == '-':\n",
    "                stack.append(a - b)\n",
    "            elif char == '*':\n",
    "                stack.append(a * b)\n",
    "            elif char == '/':\n",
    "                stack.append(a / b)\n",
    "    return stack[0]\n",
    "\n",
    "# Example\n",
    "print(evaluate_postfix('231*+9-'))  \n"
   ]
  },
  {
   "cell_type": "markdown",
   "metadata": {},
   "source": [
    "3. Which data structure (stack or queue) will you use to simulate a call center where the first customer who calls is the first to be served?\n",
    "+ **Answer: Queue**\n",
    "\n",
    "+ **Reason: A queue is perfect for this scenario because it operates on a first-in, first-out (FIFO) basis, ensuring that the first customer to call is the first to be served.**"
   ]
  },
  {
   "cell_type": "code",
   "execution_count": 4,
   "metadata": {},
   "outputs": [
    {
     "name": "stdout",
     "output_type": "stream",
     "text": [
      "Customer A\n",
      "Customer B\n",
      "Customer C\n",
      "No customers in the queue\n"
     ]
    }
   ],
   "source": [
    "from collections import deque\n",
    "\n",
    "class CallCenter:\n",
    "    def __init__(self):\n",
    "        self.queue = deque()\n",
    "    \n",
    "    def add_call(self, customer):\n",
    "        self.queue.append(customer)\n",
    "    \n",
    "    def serve_call(self):\n",
    "        if self.queue:\n",
    "            return self.queue.popleft()\n",
    "        else:\n",
    "            return \"No customers in the queue\"\n",
    "\n",
    "# Example\n",
    "call_center = CallCenter()\n",
    "call_center.add_call('Customer A')\n",
    "call_center.add_call('Customer B')\n",
    "call_center.add_call('Customer C')\n",
    "\n",
    "print(call_center.serve_call())  \n",
    "print(call_center.serve_call())  \n",
    "print(call_center.serve_call())  \n",
    "print(call_center.serve_call())  "
   ]
  }
 ],
 "metadata": {
  "kernelspec": {
   "display_name": "Python 3",
   "language": "python",
   "name": "python3"
  },
  "language_info": {
   "codemirror_mode": {
    "name": "ipython",
    "version": 3
   },
   "file_extension": ".py",
   "mimetype": "text/x-python",
   "name": "python",
   "nbconvert_exporter": "python",
   "pygments_lexer": "ipython3",
   "version": "3.12.1"
  }
 },
 "nbformat": 4,
 "nbformat_minor": 2
}
