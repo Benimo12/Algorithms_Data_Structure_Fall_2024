{
 "cells": [
  {
   "cell_type": "markdown",
   "metadata": {},
   "source": [
    "### Easy-Level Problem (Reference from LeetCode) \n",
    "\n",
    "**Problem Description**\n",
    "\n",
    "Given an unsorted array of integers `nums`, return the length of the longest continuous increasing subsequence (i.e. subarray). The subsequence must be strictly increasing.\n",
    "\n",
    "A continuous increasing subsequence is defined by two indices `l` and `r` (`l < r`) such that it is `[nums[l], nums[l + 1], ..., nums[r - 1], nums[r]]` and for each `l <= i < r`, `nums[i] < nums[i + 1]`."
   ]
  },
  {
   "cell_type": "markdown",
   "metadata": {},
   "source": [
    "**Instructions**\n",
    "\n",
    "I have provided you with the solution for the above problem. Please go through the code line by line and answer the following questions:\n",
    "\n",
    "1. Write a short description of what this function does.\n",
    "2. What is the output of the result if the input `s` is:\n",
    "    - [1,3,5,4,7]\n",
    "    - [2,2,2,2,2]\n",
    "3. Explain how you get the answer in Q2.  \n",
    "4. What is the worst-case time complexity of the below algorithm? (Use Big-O notation)\n",
    "5. What is the worst-case space complexity of the below algorithm? (Use Big-O notation)"
   ]
  },
  {
   "cell_type": "code",
   "execution_count": null,
   "metadata": {},
   "outputs": [],
   "source": [
    "def find_length_of_lcis(nums):\n",
    "    if not nums:\n",
    "        return 0\n",
    "    \n",
    "    max_length = 1\n",
    "    current_length = 1\n",
    "    \n",
    "    for i in range(1, len(nums)):\n",
    "        if nums[i] > nums[i - 1]:\n",
    "            current_length += 1\n",
    "            max_length = max(max_length, current_length)\n",
    "        else:\n",
    "            current_length = 1\n",
    "    \n",
    "    return max_length\n",
    "\n",
    "# Example usage:\n",
    "nums = [1, 3, 5, 4, 7]\n",
    "print(find_length_of_lcis(nums))  "
   ]
  }
 ],
 "metadata": {
  "kernelspec": {
   "display_name": ".venv",
   "language": "python",
   "name": "python3"
  },
  "language_info": {
   "codemirror_mode": {
    "name": "ipython",
    "version": 3
   },
   "file_extension": ".py",
   "mimetype": "text/x-python",
   "name": "python",
   "nbconvert_exporter": "python",
   "pygments_lexer": "ipython3",
   "version": "3.12.2"
  }
 },
 "nbformat": 4,
 "nbformat_minor": 2
}
