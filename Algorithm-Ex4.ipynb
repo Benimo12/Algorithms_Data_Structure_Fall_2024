{
 "cells": [
  {
   "cell_type": "markdown",
   "metadata": {},
   "source": [
    "### Medium-Level Problem (Reference from LeetCode) \n",
    "\n",
    "**Problem Description**\n",
    "\n",
    "Given a string `s`, find the length of the longest substring without repeating characters."
   ]
  },
  {
   "cell_type": "markdown",
   "metadata": {},
   "source": [
    "**Instructions**\n",
    "\n",
    "I have provided you with the solution for the above problem. Please go through the code line by line and answer the following questions:\n",
    "\n",
    "1. Write a short description of what this function does.\n",
    "2. What is the output of the result if the input `s` is:\n",
    "    - 'bbbbb'\n",
    "    - \"abcabcbb\"\n",
    "    - \"pwwkew\"\n",
    "3. Explain how you get the answer in Q2.  \n",
    "4. What is the worst-case time complexity of the below algorithm? (Use Big-O notation)\n",
    "5. What is the worst-case space complexity of the below algorithm? (Use Big-O notation)"
   ]
  },
  {
   "cell_type": "code",
   "execution_count": 4,
   "metadata": {},
   "outputs": [
    {
     "name": "stdout",
     "output_type": "stream",
     "text": [
      "(3, {'a': 3, 'b': 7, 'c': 5})\n"
     ]
    }
   ],
   "source": [
    "def length_of_longest_substring(s):\n",
    "    n = len(s)\n",
    "    char_index = {}\n",
    "    max_length = 0\n",
    "    start = 0\n",
    "\n",
    "    for end in range(n):\n",
    "        if s[end] in char_index:           \n",
    "            start = max(start, char_index[s[end]] + 1)\n",
    "        \n",
    "        char_index[s[end]] = end    \n",
    "        max_length = max(max_length, end - start + 1)\n",
    "    \n",
    "    return max_length, char_index\n",
    "\n",
    "# Example usage\n",
    "s = \"abcabcbb\"\n",
    "print(length_of_longest_substring(s))  \n"
   ]
  }
 ],
 "metadata": {
  "kernelspec": {
   "display_name": ".venv",
   "language": "python",
   "name": "python3"
  },
  "language_info": {
   "codemirror_mode": {
    "name": "ipython",
    "version": 3
   },
   "file_extension": ".py",
   "mimetype": "text/x-python",
   "name": "python",
   "nbconvert_exporter": "python",
   "pygments_lexer": "ipython3",
   "version": "3.12.2"
  }
 },
 "nbformat": 4,
 "nbformat_minor": 2
}
