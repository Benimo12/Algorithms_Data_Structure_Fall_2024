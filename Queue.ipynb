{
 "cells": [
  {
   "cell_type": "code",
   "execution_count": null,
   "metadata": {},
   "outputs": [],
   "source": [
    "class Node:\n",
    "    def __init__(self, data):\n",
    "        self.data = data\n",
    "        self.next = None\n",
    "        \n",
    "class myqueue:\n",
    "    def __init__(self):\n",
    "        self.front = None\n",
    "        self.rear = None\n",
    "        \n",
    "    def enqueue(self, data):\n",
    "        if self.rear is None:\n",
    "            self.front = self.rear = Node(data)\n",
    "        else:\n",
    "            self.rear.next = Node(data)\n",
    "            self.rear = self.rear.next\n",
    "    \n",
    "    def dequeue(self):\n",
    "        if self.front is None:\n",
    "            return None\n",
    "        else:\n",
    "            temp = self.front\n",
    "            self.front = self.front.next\n",
    "            if self.front is None:\n",
    "                self.rear = None\n",
    "            return temp.data\n",
    "        \n",
    "    def isEmpty(self):\n",
    "        return self.front is None\n",
    "    \n",
    "    def getSize(self):\n",
    "        temp = self.front\n",
    "        size = 0\n",
    "        while temp:\n",
    "            size += 1\n",
    "            temp = temp.next\n",
    "        return size\n",
    "    \n",
    "    def display(self):\n",
    "        if self.front is None:\n",
    "            print(\"Queue is empty\")\n",
    "        else:\n",
    "            temp = self.front\n",
    "            while temp:\n",
    "                print(temp.data, end=\" \")\n",
    "                temp = temp.next\n",
    "            print()           "
   ]
  },
  {
   "cell_type": "code",
   "execution_count": null,
   "metadata": {},
   "outputs": [],
   "source": [
    "import time\n",
    "\n",
    "def simulate_printer_queue(print_jobs):\n",
    "    printer_queue = myqueue()\n",
    "    \n",
    "    for job in print_jobs:\n",
    "        pages, delay = job\n",
    "        time.sleep(delay)\n",
    "        print(f\"Add job with {pages} pages to the queue.\")\n",
    "        printer_queue.enqueue(pages)\n",
    "        print(f\"Number of Jobs in Queue: {printer_queue.getSize()}\")\n",
    "        \n",
    "    print(\"----------------------------\")\n",
    "    \n",
    "    while not printer_queue.isEmpty():\n",
    "        current_job = printer_queue.dequeue()\n",
    "        print(f\"Printing job with {current_job} pages...\")\n",
    "        time.sleep(current_job * 0.1)  # Simulate time taken to print the job\n",
    "        print(f\"Job with {current_job} pages completed.\")\n",
    "        print(f\"Number of Jobs in Queue: {printer_queue.getSize()}\")\n",
    "\n",
    "# Test the function\n",
    "# (number of pages, delay in seconds before arrival)\n",
    "print_jobs = [(5, 1), (3, 2), (8, 3)]  \n",
    "simulate_printer_queue(print_jobs)"
   ]
  },
  {
   "cell_type": "code",
   "execution_count": null,
   "metadata": {},
   "outputs": [],
   "source": [
    "import queue\n",
    "\n",
    "pyqueue = queue.Queue()\n",
    "pyqueue.put(600)\n",
    "pyqueue.put(200)\n",
    "pyqueue.put(500)\n",
    "\n",
    "while not pyqueue.empty():\n",
    "    print(pyqueue.get(), end='\\n')\n"
   ]
  },
  {
   "cell_type": "code",
   "execution_count": null,
   "metadata": {},
   "outputs": [],
   "source": [
    "from collections import deque\n",
    "\n",
    "stack = deque()\n",
    "stack.append(600)\n",
    "stack.append(200)\n",
    "stack.append(500)\n",
    "\n",
    "counter = 0\n",
    "while stack:\n",
    "    counter +=1\n",
    "    print(f'{counter}:', stack.pop())"
   ]
  },
  {
   "cell_type": "code",
   "execution_count": null,
   "metadata": {},
   "outputs": [],
   "source": []
  }
 ],
 "metadata": {
  "kernelspec": {
   "display_name": "Python 3",
   "language": "python",
   "name": "python3"
  },
  "language_info": {
   "codemirror_mode": {
    "name": "ipython",
    "version": 3
   },
   "file_extension": ".py",
   "mimetype": "text/x-python",
   "name": "python",
   "nbconvert_exporter": "python",
   "pygments_lexer": "ipython3",
   "version": "3.12.1"
  }
 },
 "nbformat": 4,
 "nbformat_minor": 2
}
